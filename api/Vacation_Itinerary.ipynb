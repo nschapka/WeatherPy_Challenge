{
 "cells": [
  {
   "cell_type": "markdown",
   "metadata": {},
   "source": [
    "## Deliverable 3. Create a Travel Itinerary Map."
   ]
  },
  {
   "cell_type": "code",
   "execution_count": 4,
   "metadata": {},
   "outputs": [],
   "source": [
    "# Dependencies and Setup\n",
    "import pandas as pd\n",
    "import requests\n",
    "import gmaps\n",
    "\n",
    "# Import API key\n",
    "from config import g_key\n",
    "\n",
    "# Configure gmaps\n",
    "gmaps.configure(api_key=g_key)"
   ]
  },
  {
   "cell_type": "code",
   "execution_count": 5,
   "metadata": {},
   "outputs": [
    {
     "data": {
      "text/html": [
       "<div>\n",
       "<style scoped>\n",
       "    .dataframe tbody tr th:only-of-type {\n",
       "        vertical-align: middle;\n",
       "    }\n",
       "\n",
       "    .dataframe tbody tr th {\n",
       "        vertical-align: top;\n",
       "    }\n",
       "\n",
       "    .dataframe thead th {\n",
       "        text-align: right;\n",
       "    }\n",
       "</style>\n",
       "<table border=\"1\" class=\"dataframe\">\n",
       "  <thead>\n",
       "    <tr style=\"text-align: right;\">\n",
       "      <th></th>\n",
       "      <th>City_ID</th>\n",
       "      <th>City_ID.1</th>\n",
       "      <th>City</th>\n",
       "      <th>Country</th>\n",
       "      <th>Date</th>\n",
       "      <th>Lat</th>\n",
       "      <th>Lng</th>\n",
       "      <th>Max Temp</th>\n",
       "      <th>Humidity</th>\n",
       "      <th>Cloudiness</th>\n",
       "      <th>Wind Speed</th>\n",
       "      <th>Hotel Name</th>\n",
       "    </tr>\n",
       "  </thead>\n",
       "  <tbody>\n",
       "    <tr>\n",
       "      <th>0</th>\n",
       "      <td>0</td>\n",
       "      <td>0</td>\n",
       "      <td>Jamestown</td>\n",
       "      <td>US</td>\n",
       "      <td>2022-02-06 17:18:41</td>\n",
       "      <td>42.0970</td>\n",
       "      <td>-79.2353</td>\n",
       "      <td>31.51</td>\n",
       "      <td>40</td>\n",
       "      <td>0</td>\n",
       "      <td>8.01</td>\n",
       "      <td>Hampton Inn &amp; Suites Jamestown</td>\n",
       "    </tr>\n",
       "    <tr>\n",
       "      <th>1</th>\n",
       "      <td>4</td>\n",
       "      <td>4</td>\n",
       "      <td>Nara</td>\n",
       "      <td>JP</td>\n",
       "      <td>2022-02-06 17:22:22</td>\n",
       "      <td>34.6851</td>\n",
       "      <td>135.8049</td>\n",
       "      <td>38.48</td>\n",
       "      <td>62</td>\n",
       "      <td>12</td>\n",
       "      <td>4.63</td>\n",
       "      <td>Guesthouse Nara Komachi</td>\n",
       "    </tr>\n",
       "    <tr>\n",
       "      <th>2</th>\n",
       "      <td>11</td>\n",
       "      <td>11</td>\n",
       "      <td>Zharkovskiy</td>\n",
       "      <td>RU</td>\n",
       "      <td>2022-02-06 17:22:24</td>\n",
       "      <td>55.8490</td>\n",
       "      <td>32.2697</td>\n",
       "      <td>30.11</td>\n",
       "      <td>90</td>\n",
       "      <td>100</td>\n",
       "      <td>9.64</td>\n",
       "      <td>Gostinitsa \"Mezha\"</td>\n",
       "    </tr>\n",
       "    <tr>\n",
       "      <th>3</th>\n",
       "      <td>19</td>\n",
       "      <td>19</td>\n",
       "      <td>Klaksvik</td>\n",
       "      <td>FO</td>\n",
       "      <td>2022-02-06 17:12:28</td>\n",
       "      <td>62.2266</td>\n",
       "      <td>-6.5890</td>\n",
       "      <td>36.52</td>\n",
       "      <td>61</td>\n",
       "      <td>87</td>\n",
       "      <td>37.51</td>\n",
       "      <td>Airbnb rooms</td>\n",
       "    </tr>\n",
       "    <tr>\n",
       "      <th>4</th>\n",
       "      <td>21</td>\n",
       "      <td>21</td>\n",
       "      <td>Brae</td>\n",
       "      <td>GB</td>\n",
       "      <td>2022-02-06 17:22:25</td>\n",
       "      <td>60.3964</td>\n",
       "      <td>-1.3530</td>\n",
       "      <td>39.11</td>\n",
       "      <td>59</td>\n",
       "      <td>100</td>\n",
       "      <td>30.40</td>\n",
       "      <td>Busta House Hotel</td>\n",
       "    </tr>\n",
       "  </tbody>\n",
       "</table>\n",
       "</div>"
      ],
      "text/plain": [
       "   City_ID  City_ID.1         City Country                 Date      Lat  \\\n",
       "0        0          0    Jamestown      US  2022-02-06 17:18:41  42.0970   \n",
       "1        4          4         Nara      JP  2022-02-06 17:22:22  34.6851   \n",
       "2       11         11  Zharkovskiy      RU  2022-02-06 17:22:24  55.8490   \n",
       "3       19         19     Klaksvik      FO  2022-02-06 17:12:28  62.2266   \n",
       "4       21         21         Brae      GB  2022-02-06 17:22:25  60.3964   \n",
       "\n",
       "        Lng  Max Temp  Humidity  Cloudiness  Wind Speed  \\\n",
       "0  -79.2353     31.51        40           0        8.01   \n",
       "1  135.8049     38.48        62          12        4.63   \n",
       "2   32.2697     30.11        90         100        9.64   \n",
       "3   -6.5890     36.52        61          87       37.51   \n",
       "4   -1.3530     39.11        59         100       30.40   \n",
       "\n",
       "                       Hotel Name  \n",
       "0  Hampton Inn & Suites Jamestown  \n",
       "1         Guesthouse Nara Komachi  \n",
       "2              Gostinitsa \"Mezha\"  \n",
       "3                    Airbnb rooms  \n",
       "4               Busta House Hotel  "
      ]
     },
     "execution_count": 5,
     "metadata": {},
     "output_type": "execute_result"
    }
   ],
   "source": [
    "# 1. Read the WeatherPy_vacation.csv into a DataFrame.\n",
    "vacation_df = pd.read_csv(\"outputs/hotels.csv\")\n",
    "vacation_df.head()"
   ]
  },
  {
   "cell_type": "code",
   "execution_count": 7,
   "metadata": {},
   "outputs": [],
   "source": [
    "# 2. Using the template add the city name, the country code, the weather description and maximum temperature for the city.\n",
    "info_box_template = \"\"\"\n",
    "<dl>\n",
    "<dt>Hotel Name</dt><dd>{Hotel Name}</dd>\n",
    "<dt>City</dt><dd>{City}</dd>\n",
    "<dt>Country</dt><dd>{Country}</dd>\n",
    "<dt>Max Temp</dt><dd>{Max Temp} °F</dd>\n",
    "</dl>\n",
    "\"\"\"\n",
    "# 3a. Get the data from each row and add it to the formatting template and store the data in a list.\n",
    "hotel_info = [info_box_template.format(**row) for index, row in vacation_df.iterrows()]\n",
    "\n",
    "# 3b. Get the latitude and longitude from each row and store in a new DataFrame.\n",
    "locations = vacation_df[[\"Lat\", \"Lng\"]]"
   ]
  },
  {
   "cell_type": "code",
   "execution_count": 8,
   "metadata": {},
   "outputs": [
    {
     "data": {
      "application/vnd.jupyter.widget-view+json": {
       "model_id": "4c6dc3447ff242809026cfbde50532a9",
       "version_major": 2,
       "version_minor": 0
      },
      "text/plain": [
       "Figure(layout=FigureLayout(height='420px'))"
      ]
     },
     "metadata": {},
     "output_type": "display_data"
    }
   ],
   "source": [
    "# 11a. Add a marker layer for each city to the map. \n",
    "fig = gmaps.figure(center=(30.0,31.0), zoom_level=1.5)\n",
    "marker_layer = gmaps.marker_layer(locations, info_box_content=hotel_info)\n",
    "fig.add_layer(marker_layer)\n",
    "# 11b. Display the figure\n",
    "fig"
   ]
  },
  {
   "cell_type": "code",
   "execution_count": 17,
   "metadata": {},
   "outputs": [],
   "source": [
    "# From the map above pick 4 cities and create a vacation itinerary route to travel between the four cities. \n",
    "# 5. Create DataFrames for each city by filtering the 'vacation_df' using the loc method. \n",
    "# Hint: The starting and ending city should be the same city.\n",
    "\n",
    "vacation_start = vacation_df.loc[vacation_df['City'] == 'Blyth'].head(1)\n",
    "vacation_end = vacation_start.copy()\n",
    "vacation_stop1 = vacation_df.loc[vacation_df['City'] == 'Inverness'].head(1)\n",
    "vacation_stop2 = vacation_df.loc[vacation_df['City'] == 'Stornoway'].head(1) \n",
    "vacation_stop3 = vacation_df.loc[vacation_df['City'] == 'Brae'].head(1)"
   ]
  },
  {
   "cell_type": "code",
   "execution_count": 24,
   "metadata": {},
   "outputs": [
    {
     "data": {
      "text/plain": [
       "(55.1271, -1.5086)"
      ]
     },
     "execution_count": 24,
     "metadata": {},
     "output_type": "execute_result"
    }
   ],
   "source": [
    "# 6. Get the latitude-longitude pairs as tuples from each city DataFrame using the to_numpy function and list indexing.\n",
    "start = (vacation_start['Lat'].values[0], vacation_start['Lng'].values[0])\n",
    "end = (vacation_end['Lat'].values[0], vacation_end['Lng'].values[0])\n",
    "stop1 = (vacation_stop1['Lat'].values[0], vacation_stop1['Lng'].values[0])\n",
    "stop2 = (vacation_stop2['Lat'].values[0], vacation_stop2['Lng'].values[0])\n",
    "stop3 = (vacation_stop3['Lat'].values[0], vacation_stop3['Lng'].values[0])\n",
    "start"
   ]
  },
  {
   "cell_type": "code",
   "execution_count": 27,
   "metadata": {
    "scrolled": true
   },
   "outputs": [
    {
     "data": {
      "application/vnd.jupyter.widget-view+json": {
       "model_id": "67d08ceb5b56478baf7f7634c8346149",
       "version_major": 2,
       "version_minor": 0
      },
      "text/plain": [
       "Figure(layout=FigureLayout(height='420px'))"
      ]
     },
     "metadata": {},
     "output_type": "display_data"
    }
   ],
   "source": [
    "# 7. Create a direction layer map using the start and end latitude-longitude pairs,\n",
    "# and stop1, stop2, and stop3 as the waypoints. The travel_mode should be \"DRIVING\", \"BICYCLING\", or \"WALKING\".\n",
    "fig = gmaps.figure()\n",
    "leg1 = gmaps.directions_layer(start, stop1)\n",
    "leg2 = gmaps.directions_layer(stop1, stop2)\n",
    "leg3 = gmaps.directions_layer(stop2, stop3)\n",
    "leg4 = gmaps.directions_layer(stop3, end)\n",
    "fig.add_layer(leg1)\n",
    "fig.add_layer(leg2)\n",
    "fig.add_layer(leg3)\n",
    "fig.add_layer(leg4)\n",
    "fig\n"
   ]
  },
  {
   "cell_type": "code",
   "execution_count": 30,
   "metadata": {},
   "outputs": [
    {
     "data": {
      "text/html": [
       "<div>\n",
       "<style scoped>\n",
       "    .dataframe tbody tr th:only-of-type {\n",
       "        vertical-align: middle;\n",
       "    }\n",
       "\n",
       "    .dataframe tbody tr th {\n",
       "        vertical-align: top;\n",
       "    }\n",
       "\n",
       "    .dataframe thead th {\n",
       "        text-align: right;\n",
       "    }\n",
       "</style>\n",
       "<table border=\"1\" class=\"dataframe\">\n",
       "  <thead>\n",
       "    <tr style=\"text-align: right;\">\n",
       "      <th></th>\n",
       "      <th>City_ID</th>\n",
       "      <th>City_ID.1</th>\n",
       "      <th>City</th>\n",
       "      <th>Country</th>\n",
       "      <th>Date</th>\n",
       "      <th>Lat</th>\n",
       "      <th>Lng</th>\n",
       "      <th>Max Temp</th>\n",
       "      <th>Humidity</th>\n",
       "      <th>Cloudiness</th>\n",
       "      <th>Wind Speed</th>\n",
       "      <th>Hotel Name</th>\n",
       "    </tr>\n",
       "  </thead>\n",
       "  <tbody>\n",
       "    <tr>\n",
       "      <th>0</th>\n",
       "      <td>1367</td>\n",
       "      <td>1367</td>\n",
       "      <td>Blyth</td>\n",
       "      <td>GB</td>\n",
       "      <td>2022-02-06 17:57:03</td>\n",
       "      <td>55.1271</td>\n",
       "      <td>-1.5086</td>\n",
       "      <td>38.46</td>\n",
       "      <td>77</td>\n",
       "      <td>20</td>\n",
       "      <td>7.00</td>\n",
       "      <td>Carlton house</td>\n",
       "    </tr>\n",
       "    <tr>\n",
       "      <th>1</th>\n",
       "      <td>1258</td>\n",
       "      <td>1258</td>\n",
       "      <td>Inverness</td>\n",
       "      <td>GB</td>\n",
       "      <td>2022-02-06 17:50:04</td>\n",
       "      <td>57.4791</td>\n",
       "      <td>-4.2240</td>\n",
       "      <td>37.98</td>\n",
       "      <td>85</td>\n",
       "      <td>20</td>\n",
       "      <td>5.99</td>\n",
       "      <td>Glen Mhor Hotel &amp; Apartments</td>\n",
       "    </tr>\n",
       "    <tr>\n",
       "      <th>2</th>\n",
       "      <td>1038</td>\n",
       "      <td>1038</td>\n",
       "      <td>Stornoway</td>\n",
       "      <td>GB</td>\n",
       "      <td>2022-02-06 17:48:55</td>\n",
       "      <td>58.2093</td>\n",
       "      <td>-6.3865</td>\n",
       "      <td>38.03</td>\n",
       "      <td>74</td>\n",
       "      <td>20</td>\n",
       "      <td>7.00</td>\n",
       "      <td>Caladh Inn</td>\n",
       "    </tr>\n",
       "    <tr>\n",
       "      <th>3</th>\n",
       "      <td>21</td>\n",
       "      <td>21</td>\n",
       "      <td>Brae</td>\n",
       "      <td>GB</td>\n",
       "      <td>2022-02-06 17:22:25</td>\n",
       "      <td>60.3964</td>\n",
       "      <td>-1.3530</td>\n",
       "      <td>39.11</td>\n",
       "      <td>59</td>\n",
       "      <td>100</td>\n",
       "      <td>30.40</td>\n",
       "      <td>Busta House Hotel</td>\n",
       "    </tr>\n",
       "    <tr>\n",
       "      <th>4</th>\n",
       "      <td>1367</td>\n",
       "      <td>1367</td>\n",
       "      <td>Blyth</td>\n",
       "      <td>GB</td>\n",
       "      <td>2022-02-06 17:57:03</td>\n",
       "      <td>55.1271</td>\n",
       "      <td>-1.5086</td>\n",
       "      <td>38.46</td>\n",
       "      <td>77</td>\n",
       "      <td>20</td>\n",
       "      <td>7.00</td>\n",
       "      <td>Carlton house</td>\n",
       "    </tr>\n",
       "  </tbody>\n",
       "</table>\n",
       "</div>"
      ],
      "text/plain": [
       "   City_ID  City_ID.1       City Country                 Date      Lat  \\\n",
       "0     1367       1367      Blyth      GB  2022-02-06 17:57:03  55.1271   \n",
       "1     1258       1258  Inverness      GB  2022-02-06 17:50:04  57.4791   \n",
       "2     1038       1038  Stornoway      GB  2022-02-06 17:48:55  58.2093   \n",
       "3       21         21       Brae      GB  2022-02-06 17:22:25  60.3964   \n",
       "4     1367       1367      Blyth      GB  2022-02-06 17:57:03  55.1271   \n",
       "\n",
       "      Lng  Max Temp  Humidity  Cloudiness  Wind Speed  \\\n",
       "0 -1.5086     38.46        77          20        7.00   \n",
       "1 -4.2240     37.98        85          20        5.99   \n",
       "2 -6.3865     38.03        74          20        7.00   \n",
       "3 -1.3530     39.11        59         100       30.40   \n",
       "4 -1.5086     38.46        77          20        7.00   \n",
       "\n",
       "                     Hotel Name  \n",
       "0                 Carlton house  \n",
       "1  Glen Mhor Hotel & Apartments  \n",
       "2                    Caladh Inn  \n",
       "3             Busta House Hotel  \n",
       "4                 Carlton house  "
      ]
     },
     "execution_count": 30,
     "metadata": {},
     "output_type": "execute_result"
    }
   ],
   "source": [
    "# 8. To create a marker layer map between the four cities.\n",
    "#  Combine the four city DataFrames into one DataFrame using the concat() function.\n",
    "itinerary_df = pd.concat([vacation_start, vacation_stop1, vacation_stop2, vacation_stop3, vacation_end],ignore_index=True)\n",
    "itinerary_df"
   ]
  },
  {
   "cell_type": "code",
   "execution_count": 31,
   "metadata": {},
   "outputs": [],
   "source": [
    "# 9 Using the template add city name, the country code, the weather description and maximum temperature for the city. \n",
    "info_box_template = \"\"\"\n",
    "<dl>\n",
    "<dt>Hotel Name</dt><dd>{Hotel Name}</dd>\n",
    "<dt>City</dt><dd>{City}</dd>\n",
    "<dt>Country</dt><dd>{Country}</dd>\n",
    "<dt>Max Temp</dt><dd>{Max Temp} °F</dd>\n",
    "</dl>\n",
    "\"\"\"\n",
    "\n",
    "# 10a Get the data from each row and add it to the formatting template and store the data in a list.\n",
    "hotel_info = [info_box_template.format(**row) for index, row in itinerary_df.iterrows()]\n",
    "\n",
    "# 10b. Get the latitude and longitude from each row and store in a new DataFrame.\n",
    "locations = itinerary_df[[\"Lat\", \"Lng\"]]"
   ]
  },
  {
   "cell_type": "code",
   "execution_count": 32,
   "metadata": {},
   "outputs": [
    {
     "data": {
      "application/vnd.jupyter.widget-view+json": {
       "model_id": "ddefd6dfcf844557a724730118f5e062",
       "version_major": 2,
       "version_minor": 0
      },
      "text/plain": [
       "Figure(layout=FigureLayout(height='420px'))"
      ]
     },
     "metadata": {},
     "output_type": "display_data"
    }
   ],
   "source": [
    "# 11a. Add a marker layer for each city to the map.\n",
    "fig = gmaps.figure()\n",
    "marker_layer = gmaps.marker_layer(locations, info_box_content=hotel_info)\n",
    "fig.add_layer(marker_layer)\n",
    "# 11b. Display the figure\n",
    "fig"
   ]
  },
  {
   "cell_type": "code",
   "execution_count": null,
   "metadata": {},
   "outputs": [],
   "source": []
  }
 ],
 "metadata": {
  "kernelspec": {
   "display_name": "PythonData",
   "language": "python",
   "name": "pythondata"
  },
  "language_info": {
   "codemirror_mode": {
    "name": "ipython",
    "version": 3
   },
   "file_extension": ".py",
   "mimetype": "text/x-python",
   "name": "python",
   "nbconvert_exporter": "python",
   "pygments_lexer": "ipython3",
   "version": "3.7.11"
  },
  "latex_envs": {
   "LaTeX_envs_menu_present": true,
   "autoclose": false,
   "autocomplete": true,
   "bibliofile": "biblio.bib",
   "cite_by": "apalike",
   "current_citInitial": 1,
   "eqLabelWithNumbers": true,
   "eqNumInitial": 1,
   "hotkeys": {
    "equation": "Ctrl-E",
    "itemize": "Ctrl-I"
   },
   "labels_anchors": false,
   "latex_user_defs": false,
   "report_style_numbering": false,
   "user_envs_cfg": false
  }
 },
 "nbformat": 4,
 "nbformat_minor": 2
}
